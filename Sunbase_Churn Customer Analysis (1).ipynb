{
 "cells": [
  {
   "cell_type": "code",
   "execution_count": 1,
   "id": "194058bc",
   "metadata": {},
   "outputs": [],
   "source": [
    "import pandas as pd \n",
    "import numpy as np"
   ]
  },
  {
   "cell_type": "code",
   "execution_count": 3,
   "id": "42b64336",
   "metadata": {},
   "outputs": [],
   "source": [
    "data = pd.read_csv(r\"C:\\Users\\Ruchita Gayatri\\Downloads\\Churn_Modelling.csv\")"
   ]
  },
  {
   "cell_type": "code",
   "execution_count": 4,
   "id": "85b29e76",
   "metadata": {},
   "outputs": [
    {
     "data": {
      "text/html": [
       "<div>\n",
       "<style scoped>\n",
       "    .dataframe tbody tr th:only-of-type {\n",
       "        vertical-align: middle;\n",
       "    }\n",
       "\n",
       "    .dataframe tbody tr th {\n",
       "        vertical-align: top;\n",
       "    }\n",
       "\n",
       "    .dataframe thead th {\n",
       "        text-align: right;\n",
       "    }\n",
       "</style>\n",
       "<table border=\"1\" class=\"dataframe\">\n",
       "  <thead>\n",
       "    <tr style=\"text-align: right;\">\n",
       "      <th></th>\n",
       "      <th>RowNumber</th>\n",
       "      <th>CustomerId</th>\n",
       "      <th>Surname</th>\n",
       "      <th>CreditScore</th>\n",
       "      <th>Geography</th>\n",
       "      <th>Gender</th>\n",
       "      <th>Age</th>\n",
       "      <th>Tenure</th>\n",
       "      <th>Balance</th>\n",
       "      <th>NumOfProducts</th>\n",
       "      <th>HasCrCard</th>\n",
       "      <th>IsActiveMember</th>\n",
       "      <th>EstimatedSalary</th>\n",
       "      <th>Exited</th>\n",
       "    </tr>\n",
       "  </thead>\n",
       "  <tbody>\n",
       "    <tr>\n",
       "      <th>0</th>\n",
       "      <td>1</td>\n",
       "      <td>15634602</td>\n",
       "      <td>Hargrave</td>\n",
       "      <td>619</td>\n",
       "      <td>France</td>\n",
       "      <td>Female</td>\n",
       "      <td>42</td>\n",
       "      <td>2</td>\n",
       "      <td>0.00</td>\n",
       "      <td>1</td>\n",
       "      <td>1</td>\n",
       "      <td>1</td>\n",
       "      <td>101348.88</td>\n",
       "      <td>1</td>\n",
       "    </tr>\n",
       "    <tr>\n",
       "      <th>1</th>\n",
       "      <td>2</td>\n",
       "      <td>15647311</td>\n",
       "      <td>Hill</td>\n",
       "      <td>608</td>\n",
       "      <td>Spain</td>\n",
       "      <td>Female</td>\n",
       "      <td>41</td>\n",
       "      <td>1</td>\n",
       "      <td>83807.86</td>\n",
       "      <td>1</td>\n",
       "      <td>0</td>\n",
       "      <td>1</td>\n",
       "      <td>112542.58</td>\n",
       "      <td>0</td>\n",
       "    </tr>\n",
       "    <tr>\n",
       "      <th>2</th>\n",
       "      <td>3</td>\n",
       "      <td>15619304</td>\n",
       "      <td>Onio</td>\n",
       "      <td>502</td>\n",
       "      <td>France</td>\n",
       "      <td>Female</td>\n",
       "      <td>42</td>\n",
       "      <td>8</td>\n",
       "      <td>159660.80</td>\n",
       "      <td>3</td>\n",
       "      <td>1</td>\n",
       "      <td>0</td>\n",
       "      <td>113931.57</td>\n",
       "      <td>1</td>\n",
       "    </tr>\n",
       "    <tr>\n",
       "      <th>3</th>\n",
       "      <td>4</td>\n",
       "      <td>15701354</td>\n",
       "      <td>Boni</td>\n",
       "      <td>699</td>\n",
       "      <td>France</td>\n",
       "      <td>Female</td>\n",
       "      <td>39</td>\n",
       "      <td>1</td>\n",
       "      <td>0.00</td>\n",
       "      <td>2</td>\n",
       "      <td>0</td>\n",
       "      <td>0</td>\n",
       "      <td>93826.63</td>\n",
       "      <td>0</td>\n",
       "    </tr>\n",
       "    <tr>\n",
       "      <th>4</th>\n",
       "      <td>5</td>\n",
       "      <td>15737888</td>\n",
       "      <td>Mitchell</td>\n",
       "      <td>850</td>\n",
       "      <td>Spain</td>\n",
       "      <td>Female</td>\n",
       "      <td>43</td>\n",
       "      <td>2</td>\n",
       "      <td>125510.82</td>\n",
       "      <td>1</td>\n",
       "      <td>1</td>\n",
       "      <td>1</td>\n",
       "      <td>79084.10</td>\n",
       "      <td>0</td>\n",
       "    </tr>\n",
       "  </tbody>\n",
       "</table>\n",
       "</div>"
      ],
      "text/plain": [
       "   RowNumber  CustomerId   Surname  CreditScore Geography  Gender  Age  \\\n",
       "0          1    15634602  Hargrave          619    France  Female   42   \n",
       "1          2    15647311      Hill          608     Spain  Female   41   \n",
       "2          3    15619304      Onio          502    France  Female   42   \n",
       "3          4    15701354      Boni          699    France  Female   39   \n",
       "4          5    15737888  Mitchell          850     Spain  Female   43   \n",
       "\n",
       "   Tenure    Balance  NumOfProducts  HasCrCard  IsActiveMember  \\\n",
       "0       2       0.00              1          1               1   \n",
       "1       1   83807.86              1          0               1   \n",
       "2       8  159660.80              3          1               0   \n",
       "3       1       0.00              2          0               0   \n",
       "4       2  125510.82              1          1               1   \n",
       "\n",
       "   EstimatedSalary  Exited  \n",
       "0        101348.88       1  \n",
       "1        112542.58       0  \n",
       "2        113931.57       1  \n",
       "3         93826.63       0  \n",
       "4         79084.10       0  "
      ]
     },
     "execution_count": 4,
     "metadata": {},
     "output_type": "execute_result"
    }
   ],
   "source": [
    "data.head()"
   ]
  },
  {
   "cell_type": "code",
   "execution_count": 5,
   "id": "b8589cb4",
   "metadata": {},
   "outputs": [
    {
     "data": {
      "text/plain": [
       "RowNumber          0\n",
       "CustomerId         0\n",
       "Surname            0\n",
       "CreditScore        0\n",
       "Geography          0\n",
       "Gender             0\n",
       "Age                0\n",
       "Tenure             0\n",
       "Balance            0\n",
       "NumOfProducts      0\n",
       "HasCrCard          0\n",
       "IsActiveMember     0\n",
       "EstimatedSalary    0\n",
       "Exited             0\n",
       "dtype: int64"
      ]
     },
     "execution_count": 5,
     "metadata": {},
     "output_type": "execute_result"
    }
   ],
   "source": [
    "# Nan Values \n",
    "data.isna().sum()"
   ]
  },
  {
   "cell_type": "code",
   "execution_count": 27,
   "id": "1c3b87fd",
   "metadata": {},
   "outputs": [
    {
     "data": {
      "text/plain": [
       "0.0    50221\n",
       "1.0    49779\n",
       "Name: Churn, dtype: int64"
      ]
     },
     "execution_count": 27,
     "metadata": {},
     "output_type": "execute_result"
    }
   ],
   "source": [
    "# Data Imbalance\n",
    "data['Churn'].value_counts()"
   ]
  },
  {
   "cell_type": "code",
   "execution_count": 28,
   "id": "feda06d7",
   "metadata": {},
   "outputs": [
    {
     "data": {
      "text/plain": [
       "CustomerID                    float64\n",
       "Name                           object\n",
       "Age                           float64\n",
       "Gender                         object\n",
       "Location                       object\n",
       "Subscription_Length_Months    float64\n",
       "Monthly_Bill                  float64\n",
       "Total_Usage_GB                float64\n",
       "Churn                         float64\n",
       "dtype: object"
      ]
     },
     "execution_count": 28,
     "metadata": {},
     "output_type": "execute_result"
    }
   ],
   "source": [
    "data.dtypes"
   ]
  },
  {
   "cell_type": "code",
   "execution_count": 3,
   "id": "4a985401",
   "metadata": {},
   "outputs": [
    {
     "name": "stderr",
     "output_type": "stream",
     "text": [
      "C:\\Users\\Ruchita Gayatri\\anaconda3\\lib\\site-packages\\scipy\\__init__.py:146: UserWarning: A NumPy version >=1.16.5 and <1.23.0 is required for this version of SciPy (detected version 1.24.3\n",
      "  warnings.warn(f\"A NumPy version >={np_minversion} and <{np_maxversion}\"\n"
     ]
    }
   ],
   "source": [
    "# Categorical to numerical \n",
    "from sklearn.preprocessing import LabelEncoder\n",
    "label = LabelEncoder()\n",
    "\n",
    "data['Gender'] = label.fit_transform(data['Gender'])\n",
    "data['Location'] = label.fit_transform(data['Location'])"
   ]
  },
  {
   "cell_type": "code",
   "execution_count": 4,
   "id": "52dd1fc9",
   "metadata": {},
   "outputs": [],
   "source": [
    "# Dropping Data based on the target labels and making one class as minority\n",
    "\n",
    "drop_proportion = 0.8\n",
    "churn_label_1 = data[data['Churn'] == 1]\n",
    "num_rows_to_drop = int(len(churn_label_1) * drop_proportion)\n",
    "churn_label_1_dropped = churn_label_1.sample(frac=1 - drop_proportion, random_state=42)\n",
    "#data2_0 = pd.concat([churn_label_1_dropped, data[data['Churn'] == 0]], ignore_index=True)\n",
    "\n",
    "drop_proportion = 0.3\n",
    "churn_label_2 = data[data['Churn'] == 0]\n",
    "num_rows_to_drop = int(len(churn_label_2) * drop_proportion)\n",
    "churn_label_2_dropped = churn_label_2.sample(frac=1 - drop_proportion, random_state=42)\n",
    "#data2_1 = pd.concat([churn_label_2_dropped, data[data['Churn'] == 1]], ignore_index=True)\n",
    "\n",
    "data2 = pd.concat([churn_label_1_dropped, churn_label_2_dropped], ignore_index=True)\n",
    "\n",
    "X2 = data2.drop(columns=['CustomerID','Name','Churn'])\n",
    "y2 = data2['Churn']"
   ]
  },
  {
   "cell_type": "code",
   "execution_count": 5,
   "id": "993dc915",
   "metadata": {},
   "outputs": [
    {
     "data": {
      "text/plain": [
       "(45111, 9)"
      ]
     },
     "execution_count": 5,
     "metadata": {},
     "output_type": "execute_result"
    }
   ],
   "source": [
    "data2.shape"
   ]
  },
  {
   "cell_type": "code",
   "execution_count": 6,
   "id": "9b07f7c8",
   "metadata": {},
   "outputs": [
    {
     "name": "stdout",
     "output_type": "stream",
     "text": [
      "Class distribution before oversampling: Counter({1: 900, 0: 100})\n"
     ]
    },
    {
     "name": "stderr",
     "output_type": "stream",
     "text": [
      "C:\\Users\\Ruchita Gayatri\\anaconda3\\lib\\site-packages\\imblearn\\utils\\_validation.py:299: UserWarning: After over-sampling, the number of samples (40000) in class 0 will be larger than the number of samples in the majority class (class #0.0 -> 35155)\n",
      "  warnings.warn(\n",
      "C:\\Users\\Ruchita Gayatri\\anaconda3\\lib\\site-packages\\imblearn\\utils\\_validation.py:299: UserWarning: After over-sampling, the number of samples (40000) in class 1 will be larger than the number of samples in the majority class (class #0.0 -> 35155)\n",
      "  warnings.warn(\n"
     ]
    },
    {
     "name": "stdout",
     "output_type": "stream",
     "text": [
      "Class distribution after oversampling: Counter({1.0: 40000, 0.0: 40000})\n"
     ]
    }
   ],
   "source": [
    "# Sampling the minority class and balancing the data \n",
    "\n",
    "import numpy as np\n",
    "from sklearn.datasets import make_classification\n",
    "from imblearn.over_sampling import SMOTE\n",
    "from collections import Counter\n",
    "\n",
    "# Create a synthetic imbalanced dataset\n",
    "X, y = make_classification(n_classes=2, class_sep=2,\n",
    "                           weights=[0.1, 0.9], n_informative=3,\n",
    "                           n_redundant=1, flip_y=0, n_features=20,\n",
    "                           n_clusters_per_class=1, n_samples=1000,\n",
    "                           random_state=10)\n",
    "\n",
    "# Display class distribution before oversampling\n",
    "print(\"Class distribution before oversampling:\", Counter(y))\n",
    "\n",
    "# Define the desired number of samples for the minority class\n",
    "desired_samples = 40000  # Increase the desired number of samples\n",
    "\n",
    "# Calculate the required sampling ratio\n",
    "sampling_ratio = {0: desired_samples, 1: desired_samples}\n",
    "\n",
    "# Apply SMOTE for oversampling with the desired ratio\n",
    "smote = SMOTE(sampling_strategy=sampling_ratio, random_state=42)\n",
    "X_resampled, y_resampled = smote.fit_resample(X2, y2)\n",
    "\n",
    "# Display class distribution after oversampling\n",
    "print(\"Class distribution after oversampling:\", Counter(y_resampled))"
   ]
  },
  {
   "cell_type": "code",
   "execution_count": 7,
   "id": "00a2e34b",
   "metadata": {},
   "outputs": [
    {
     "data": {
      "text/html": [
       "<div>\n",
       "<style scoped>\n",
       "    .dataframe tbody tr th:only-of-type {\n",
       "        vertical-align: middle;\n",
       "    }\n",
       "\n",
       "    .dataframe tbody tr th {\n",
       "        vertical-align: top;\n",
       "    }\n",
       "\n",
       "    .dataframe thead th {\n",
       "        text-align: right;\n",
       "    }\n",
       "</style>\n",
       "<table border=\"1\" class=\"dataframe\">\n",
       "  <thead>\n",
       "    <tr style=\"text-align: right;\">\n",
       "      <th></th>\n",
       "      <th>Age</th>\n",
       "      <th>Gender</th>\n",
       "      <th>Location</th>\n",
       "      <th>Subscription_Length_Months</th>\n",
       "      <th>Monthly_Bill</th>\n",
       "      <th>Total_Usage_GB</th>\n",
       "    </tr>\n",
       "  </thead>\n",
       "  <tbody>\n",
       "    <tr>\n",
       "      <th>0</th>\n",
       "      <td>45.000000</td>\n",
       "      <td>0</td>\n",
       "      <td>3</td>\n",
       "      <td>5.000000</td>\n",
       "      <td>44.550000</td>\n",
       "      <td>388.000000</td>\n",
       "    </tr>\n",
       "    <tr>\n",
       "      <th>1</th>\n",
       "      <td>38.000000</td>\n",
       "      <td>1</td>\n",
       "      <td>2</td>\n",
       "      <td>24.000000</td>\n",
       "      <td>97.620000</td>\n",
       "      <td>153.000000</td>\n",
       "    </tr>\n",
       "    <tr>\n",
       "      <th>2</th>\n",
       "      <td>49.000000</td>\n",
       "      <td>1</td>\n",
       "      <td>0</td>\n",
       "      <td>1.000000</td>\n",
       "      <td>34.270000</td>\n",
       "      <td>296.000000</td>\n",
       "    </tr>\n",
       "    <tr>\n",
       "      <th>3</th>\n",
       "      <td>52.000000</td>\n",
       "      <td>1</td>\n",
       "      <td>3</td>\n",
       "      <td>6.000000</td>\n",
       "      <td>95.280000</td>\n",
       "      <td>366.000000</td>\n",
       "    </tr>\n",
       "    <tr>\n",
       "      <th>4</th>\n",
       "      <td>43.000000</td>\n",
       "      <td>0</td>\n",
       "      <td>1</td>\n",
       "      <td>2.000000</td>\n",
       "      <td>53.050000</td>\n",
       "      <td>345.000000</td>\n",
       "    </tr>\n",
       "    <tr>\n",
       "      <th>...</th>\n",
       "      <td>...</td>\n",
       "      <td>...</td>\n",
       "      <td>...</td>\n",
       "      <td>...</td>\n",
       "      <td>...</td>\n",
       "      <td>...</td>\n",
       "    </tr>\n",
       "    <tr>\n",
       "      <th>79995</th>\n",
       "      <td>56.593765</td>\n",
       "      <td>0</td>\n",
       "      <td>2</td>\n",
       "      <td>8.187529</td>\n",
       "      <td>32.989749</td>\n",
       "      <td>231.781294</td>\n",
       "    </tr>\n",
       "    <tr>\n",
       "      <th>79996</th>\n",
       "      <td>58.123865</td>\n",
       "      <td>0</td>\n",
       "      <td>2</td>\n",
       "      <td>11.575227</td>\n",
       "      <td>58.849630</td>\n",
       "      <td>143.424773</td>\n",
       "    </tr>\n",
       "    <tr>\n",
       "      <th>79997</th>\n",
       "      <td>39.475223</td>\n",
       "      <td>0</td>\n",
       "      <td>1</td>\n",
       "      <td>11.475223</td>\n",
       "      <td>77.271431</td>\n",
       "      <td>421.895045</td>\n",
       "    </tr>\n",
       "    <tr>\n",
       "      <th>79998</th>\n",
       "      <td>61.349036</td>\n",
       "      <td>1</td>\n",
       "      <td>2</td>\n",
       "      <td>18.825482</td>\n",
       "      <td>90.858967</td>\n",
       "      <td>164.412741</td>\n",
       "    </tr>\n",
       "    <tr>\n",
       "      <th>79999</th>\n",
       "      <td>33.286452</td>\n",
       "      <td>0</td>\n",
       "      <td>2</td>\n",
       "      <td>18.785591</td>\n",
       "      <td>77.220755</td>\n",
       "      <td>442.428817</td>\n",
       "    </tr>\n",
       "  </tbody>\n",
       "</table>\n",
       "<p>80000 rows × 6 columns</p>\n",
       "</div>"
      ],
      "text/plain": [
       "             Age  Gender  Location  Subscription_Length_Months  Monthly_Bill  \\\n",
       "0      45.000000       0         3                    5.000000     44.550000   \n",
       "1      38.000000       1         2                   24.000000     97.620000   \n",
       "2      49.000000       1         0                    1.000000     34.270000   \n",
       "3      52.000000       1         3                    6.000000     95.280000   \n",
       "4      43.000000       0         1                    2.000000     53.050000   \n",
       "...          ...     ...       ...                         ...           ...   \n",
       "79995  56.593765       0         2                    8.187529     32.989749   \n",
       "79996  58.123865       0         2                   11.575227     58.849630   \n",
       "79997  39.475223       0         1                   11.475223     77.271431   \n",
       "79998  61.349036       1         2                   18.825482     90.858967   \n",
       "79999  33.286452       0         2                   18.785591     77.220755   \n",
       "\n",
       "       Total_Usage_GB  \n",
       "0          388.000000  \n",
       "1          153.000000  \n",
       "2          296.000000  \n",
       "3          366.000000  \n",
       "4          345.000000  \n",
       "...               ...  \n",
       "79995      231.781294  \n",
       "79996      143.424773  \n",
       "79997      421.895045  \n",
       "79998      164.412741  \n",
       "79999      442.428817  \n",
       "\n",
       "[80000 rows x 6 columns]"
      ]
     },
     "execution_count": 7,
     "metadata": {},
     "output_type": "execute_result"
    }
   ],
   "source": [
    "X_resampled"
   ]
  },
  {
   "cell_type": "code",
   "execution_count": 8,
   "id": "6c8272ab",
   "metadata": {},
   "outputs": [],
   "source": [
    "# Repeating the same process but with altering the minortiy class \n",
    "\n",
    "y_resampled_df = pd.DataFrame(y_resampled, columns=['Churn'])\n",
    "data1 = pd.concat([X_resampled, y_resampled_df], axis=1)\n",
    "\n",
    "drop_proportion = 0.8\n",
    "churn_label_1 = data1[data1['Churn'] == 1]\n",
    "num_rows_to_drop = int(len(churn_label_1) * drop_proportion)\n",
    "churn_label_1_dropped = churn_label_1.sample(frac=1 - drop_proportion, random_state=42)\n",
    "data2_0 = pd.concat([churn_label_1_dropped, data[data['Churn'] == 0]], ignore_index=True)\n",
    "\n",
    "drop_proportion = 0.3\n",
    "churn_label_2 = data1[data1['Churn'] == 0]\n",
    "num_rows_to_drop = int(len(churn_label_2) * drop_proportion)\n",
    "churn_label_2_dropped = churn_label_2.sample(frac=1 - drop_proportion, random_state=42)\n",
    "data2_1 = pd.concat([churn_label_2_dropped, data[data['Churn'] == 1]], ignore_index=True)\n",
    "\n",
    "data2 = pd.concat([churn_label_1_dropped, churn_label_2_dropped], ignore_index=True)\n",
    "\n",
    "X2 = data2.drop(columns=['Churn'])\n",
    "y2 = data2['Churn']"
   ]
  },
  {
   "cell_type": "code",
   "execution_count": 9,
   "id": "2c57ae21",
   "metadata": {},
   "outputs": [
    {
     "name": "stdout",
     "output_type": "stream",
     "text": [
      "Class distribution before oversampling: Counter({1: 900, 0: 100})\n"
     ]
    },
    {
     "name": "stderr",
     "output_type": "stream",
     "text": [
      "C:\\Users\\Ruchita Gayatri\\anaconda3\\lib\\site-packages\\imblearn\\utils\\_validation.py:299: UserWarning: After over-sampling, the number of samples (50000) in class 0 will be larger than the number of samples in the majority class (class #0.0 -> 28000)\n",
      "  warnings.warn(\n",
      "C:\\Users\\Ruchita Gayatri\\anaconda3\\lib\\site-packages\\imblearn\\utils\\_validation.py:299: UserWarning: After over-sampling, the number of samples (50000) in class 1 will be larger than the number of samples in the majority class (class #0.0 -> 28000)\n",
      "  warnings.warn(\n"
     ]
    },
    {
     "name": "stdout",
     "output_type": "stream",
     "text": [
      "Class distribution after oversampling: Counter({1.0: 50000, 0.0: 50000})\n"
     ]
    }
   ],
   "source": [
    "# Balancing the minority class \n",
    "\n",
    "import numpy as np\n",
    "from sklearn.datasets import make_classification\n",
    "from imblearn.over_sampling import SMOTE\n",
    "from collections import Counter\n",
    "\n",
    "# Create a synthetic imbalanced dataset\n",
    "X, y = make_classification(n_classes=2, class_sep=2,\n",
    "                           weights=[0.1, 0.9], n_informative=3,\n",
    "                           n_redundant=1, flip_y=0, n_features=20,\n",
    "                           n_clusters_per_class=1, n_samples=1000,\n",
    "                           random_state=10)\n",
    "\n",
    "# Display class distribution before oversampling\n",
    "print(\"Class distribution before oversampling:\", Counter(y))\n",
    "\n",
    "# Define the desired number of samples for the minority class\n",
    "desired_samples = 50000  # Increase the desired number of samples\n",
    "\n",
    "# Calculate the required sampling ratio\n",
    "sampling_ratio = {0: desired_samples, 1: desired_samples}\n",
    "\n",
    "# Apply SMOTE for oversampling with the desired ratio\n",
    "smote = SMOTE(sampling_strategy=sampling_ratio, random_state=42)\n",
    "X_resampled, y_resampled = smote.fit_resample(X2, y2)\n",
    "\n",
    "# Display class distribution after oversampling\n",
    "print(\"Class distribution after oversampling:\", Counter(y_resampled))\n"
   ]
  },
  {
   "cell_type": "code",
   "execution_count": 10,
   "id": "ac1dbecd",
   "metadata": {},
   "outputs": [],
   "source": [
    "# Feature sampling (Polynomail features)\n",
    "\n",
    "from sklearn.preprocessing import PolynomialFeatures\n",
    "\n",
    "degree = 2  \n",
    "poly = PolynomialFeatures(degree=degree)\n",
    "\n",
    "X_poly1 = poly.fit_transform(X_resampled)\n",
    "\n",
    "X_poly1 = pd.DataFrame(X_poly1)"
   ]
  },
  {
   "cell_type": "code",
   "execution_count": 11,
   "id": "49605f7e",
   "metadata": {},
   "outputs": [],
   "source": [
    "# Train Test Split\n",
    "\n",
    "from sklearn.model_selection import train_test_split\n",
    "X_train, X_test, y_train, y_test = train_test_split(X_poly1, y_resampled, test_size=0.3, random_state=42)"
   ]
  },
  {
   "cell_type": "code",
   "execution_count": 12,
   "id": "24475e6d",
   "metadata": {},
   "outputs": [],
   "source": [
    "from sklearn.ensemble import RandomForestClassifier\n",
    "from sklearn.model_selection import GridSearchCV\n",
    "from sklearn.metrics import accuracy_score\n",
    "\n",
    "# Define the parameter grid for GridSearch\n",
    "param_grid = {\n",
    "    'n_estimators': [200],\n",
    "    'max_depth': [None],\n",
    "    'min_samples_split': [5, 2, 10],\n",
    "    'min_samples_leaf': [1, 2, 4]\n",
    "}\n",
    "\n",
    "# Create a Random Forest model\n",
    "model = RandomForestClassifier(random_state=42)\n",
    "\n",
    "# Create a GridSearchCV object\n",
    "grid_search = GridSearchCV(estimator=model, param_grid=param_grid,\n",
    "                           scoring='accuracy', cv=5, n_jobs=-1)\n",
    "\n",
    "# Fit the GridSearchCV to the data\n",
    "grid_search.fit(X_train, y_train)\n",
    "\n",
    "# Get the best parameters and model\n",
    "best_params = grid_search.best_params_\n",
    "best_model = grid_search.best_estimator_\n",
    "\n",
    "# Make predictions using the best model\n",
    "y_pred = best_model.predict(X_test)\n",
    "\n",
    "# Calculate accuracy\n",
    "accuracy = accuracy_score(y_test, y_pred)"
   ]
  },
  {
   "cell_type": "code",
   "execution_count": 13,
   "id": "2ece8ca9",
   "metadata": {},
   "outputs": [
    {
     "name": "stdout",
     "output_type": "stream",
     "text": [
      "Accuracy: 0.8874\n"
     ]
    }
   ],
   "source": [
    "# Model \n",
    "\n",
    "from sklearn.ensemble import RandomForestClassifier\n",
    "from sklearn.metrics import accuracy_score\n",
    "\n",
    "model = RandomForestClassifier(max_depth = None, min_samples_leaf = 1, min_samples_split= 2, n_estimators= 200) \n",
    "# Parameters are adjusted based on hyperparameter tuning \n",
    "\n",
    "model.fit(X_train, y_train)\n",
    "y_pred = model.predict(X_test)\n",
    "accuracy = accuracy_score(y_test, y_pred)\n",
    "print(\"Accuracy:\", accuracy)"
   ]
  },
  {
   "cell_type": "code",
   "execution_count": 14,
   "id": "25544983",
   "metadata": {},
   "outputs": [
    {
     "data": {
      "image/png": "[encoded data removed]",
      "text/plain": [
       "<Figure size 432x288 with 1 Axes>"
      ]
     },
     "metadata": {
      "needs_background": "light"
     },
     "output_type": "display_data"
    }
   ],
   "source": [
    "#Confusion Matrix\n",
    "\n",
    "import matplotlib.pyplot as plt\n",
    "import seaborn as sns\n",
    "from sklearn.metrics import confusion_matrix\n",
    "\n",
    "cn = confusion_matrix(y_test, y_pred)\n",
    "\n",
    "plt.figure(figsize=(6, 4))\n",
    "sns.heatmap(cn, annot=True, cmap=\"Blues\", fmt=\"g\", cbar=False)\n",
    "plt.xlabel('Predicted Labels')\n",
    "plt.ylabel('True Labels')\n",
    "plt.title('Confusion Matrix')\n",
    "plt.show()"
   ]
  },
  {
   "cell_type": "code",
   "execution_count": 15,
   "id": "de95e0ce",
   "metadata": {},
   "outputs": [
    {
     "name": "stdout",
     "output_type": "stream",
     "text": [
      "Precision: 0.8770668583752695\n",
      "Recall: 0.8996447006770798\n",
      "F1-score: 0.8882123237805281\n"
     ]
    }
   ],
   "source": [
    "from sklearn.metrics import precision_score, recall_score, f1_score\n",
    "\n",
    "precision = precision_score(y_test, y_pred)\n",
    "recall = recall_score(y_test, y_pred)\n",
    "f1 = f1_score(y_test, y_pred)\n",
    "\n",
    "print(\"Precision:\", precision)\n",
    "print(\"Recall:\", recall)\n",
    "print(\"F1-score:\", f1)"
   ]
  },
  {
   "cell_type": "code",
   "execution_count": 16,
   "id": "01fc53ba",
   "metadata": {},
   "outputs": [
    {
     "data": {
      "image/png": "[encoded data removed]",
      "text/plain": [
       "<Figure size 576x432 with 1 Axes>"
      ]
     },
     "metadata": {
      "needs_background": "light"
     },
     "output_type": "display_data"
    },
    {
     "data": {
      "image/png": "[encoded data removed]",
      "text/plain": [
       "<Figure size 576x432 with 1 Axes>"
      ]
     },
     "metadata": {
      "needs_background": "light"
     },
     "output_type": "display_data"
    }
   ],
   "source": [
    "# Calculate ROC curve and AUC\n",
    "from sklearn.metrics import roc_curve, roc_auc_score, precision_recall_curve, auc\n",
    "\n",
    "fpr, tpr, _ = roc_curve(y_test, y_pred)\n",
    "roc_auc = roc_auc_score(y_test, y_pred)\n",
    "\n",
    "# Calculate Precision-Recall curve and AUC-PR\n",
    "precision, recall, _ = precision_recall_curve(y_test, y_pred)\n",
    "pr_auc = auc(recall, precision)\n",
    "\n",
    "# Plot ROC curve\n",
    "plt.figure(figsize=(8, 6))\n",
    "plt.plot(fpr, tpr, color='blue', label=f'ROC curve (AUC = {roc_auc:.2f})')\n",
    "plt.plot([0, 1], [0, 1], color='gray', linestyle='--')\n",
    "plt.xlabel('False Positive Rate')\n",
    "plt.ylabel('True Positive Rate')\n",
    "plt.title('Receiver Operating Characteristic (ROC) Curve')\n",
    "plt.legend()\n",
    "plt.show()\n",
    "\n",
    "# Plot Precision-Recall curve\n",
    "plt.figure(figsize=(8, 6))\n",
    "plt.plot(recall, precision, color='red', label=f'PR curve (AUC = {pr_auc:.2f})')\n",
    "plt.xlabel('Recall')\n",
    "plt.ylabel('Precision')\n",
    "plt.title('Precision-Recall Curve')\n",
    "plt.legend()\n",
    "plt.show()"
   ]
  }
 ],
 "metadata": {
  "kernelspec": {
   "display_name": "Python 3 (ipykernel)",
   "language": "python",
   "name": "python3"
  },
  "language_info": {
   "codemirror_mode": {
    "name": "ipython",
    "version": 3
   },
   "file_extension": ".py",
   "mimetype": "text/x-python",
   "name": "python",
   "nbconvert_exporter": "python",
   "pygments_lexer": "ipython3",
   "version": "3.11.1"
  }
 },
 "nbformat": 4,
 "nbformat_minor": 5
}
